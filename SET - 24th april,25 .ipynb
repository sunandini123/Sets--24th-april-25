{
 "cells": [
  {
   "cell_type": "markdown",
   "id": "9f4fec8d-4bf2-4b84-9a96-78ccb28de536",
   "metadata": {},
   "source": [
    "# SET "
   ]
  },
  {
   "cell_type": "code",
   "execution_count": null,
   "id": "2734549d-55e5-40cc-b4bd-29821cd5a1c6",
   "metadata": {},
   "outputs": [],
   "source": [
    "1) unordered & unindexed collection of items\n",
    "2)set elements are unique.\n",
    "3)No duplication allowed\n",
    "4)set elemets are immutable(not changeable)\n",
    "5)whole set itself is mutable, we can add & remove items from it."
   ]
  },
  {
   "cell_type": "code",
   "execution_count": 2,
   "id": "e04c6b3e-a402-4c7b-8df7-4b18821f7bd6",
   "metadata": {},
   "outputs": [
    {
     "data": {
      "text/plain": [
       "{1, 2, 3, 4, 5}"
      ]
     },
     "execution_count": 2,
     "metadata": {},
     "output_type": "execute_result"
    }
   ],
   "source": [
    "myset={1,2,3,4,5} # set of numbers \n",
    "myset"
   ]
  },
  {
   "cell_type": "markdown",
   "id": "bff5e6cd-2955-4ab1-a90a-3ffd70b060c2",
   "metadata": {},
   "source": [
    "# SET CREATION"
   ]
  },
  {
   "cell_type": "code",
   "execution_count": 17,
   "id": "69f4c403-9738-4a76-82a8-44a2c8a2beb1",
   "metadata": {},
   "outputs": [
    {
     "data": {
      "text/plain": [
       "{1, 2, 3, 4, 5}"
      ]
     },
     "execution_count": 17,
     "metadata": {},
     "output_type": "execute_result"
    }
   ],
   "source": [
    "myset={1,2,3,4,5} ## set of integers\n",
    "myset"
   ]
  },
  {
   "cell_type": "code",
   "execution_count": 7,
   "id": "ad07fb0b-8d1d-482c-9b8d-cd88291906ae",
   "metadata": {},
   "outputs": [
    {
     "data": {
      "text/plain": [
       "5"
      ]
     },
     "execution_count": 7,
     "metadata": {},
     "output_type": "execute_result"
    }
   ],
   "source": [
    "len(myset)"
   ]
  },
  {
   "cell_type": "code",
   "execution_count": 9,
   "id": "af928074-b381-4175-bd5e-1c2fe6aa6009",
   "metadata": {},
   "outputs": [
    {
     "data": {
      "text/plain": [
       "{1, 2, 3, 4, 5}"
      ]
     },
     "execution_count": 9,
     "metadata": {},
     "output_type": "execute_result"
    }
   ],
   "source": [
    "myset={1,1,2,2,3,4,5} ## Duplication not allowed \n",
    "myset"
   ]
  },
  {
   "cell_type": "code",
   "execution_count": 11,
   "id": "50215fa0-5d88-4611-a2dc-c9779066b491",
   "metadata": {},
   "outputs": [
    {
     "data": {
      "text/plain": [
       "{1, 2, 3, 4, 5}"
      ]
     },
     "execution_count": 11,
     "metadata": {},
     "output_type": "execute_result"
    }
   ],
   "source": [
    "myset"
   ]
  },
  {
   "cell_type": "code",
   "execution_count": 15,
   "id": "721f10db-625e-4cec-9371-a3d6ca3d6a9b",
   "metadata": {},
   "outputs": [
    {
     "data": {
      "text/plain": [
       "{6.7, 9.5, 10.22, 11.45, 16.75, 18.99}"
      ]
     },
     "execution_count": 15,
     "metadata": {},
     "output_type": "execute_result"
    }
   ],
   "source": [
    "myset1={10.22,11.45,16.75,18.99,9.5,6.7} # set of float numbers \n",
    "myset1"
   ]
  },
  {
   "cell_type": "code",
   "execution_count": 19,
   "id": "3e101865-5fa4-4270-8674-b663dad6ee5d",
   "metadata": {},
   "outputs": [],
   "source": [
    "myset2={'Sai','ram','avi'}  # set of strings"
   ]
  },
  {
   "cell_type": "code",
   "execution_count": 21,
   "id": "0d50c820-59c8-4353-8af7-1fbeab337d3f",
   "metadata": {},
   "outputs": [
    {
     "data": {
      "text/plain": [
       "{'Sai', 'avi', 'ram'}"
      ]
     },
     "execution_count": 21,
     "metadata": {},
     "output_type": "execute_result"
    }
   ],
   "source": [
    "myset2"
   ]
  },
  {
   "cell_type": "code",
   "execution_count": 25,
   "id": "6d7fa3cf-a885-4d8b-9622-81023a63018c",
   "metadata": {},
   "outputs": [
    {
     "data": {
      "text/plain": [
       "{(11, 22, 32), 10, 6.5, 'govind'}"
      ]
     },
     "execution_count": 25,
     "metadata": {},
     "output_type": "execute_result"
    }
   ],
   "source": [
    "myset3={10, 6.5, 'govind', (11,22,32)}   #mixed datatypes\n",
    "myset3"
   ]
  },
  {
   "cell_type": "code",
   "execution_count": 27,
   "id": "afda5613-5e37-4c4e-944d-08dca54bd9d4",
   "metadata": {},
   "outputs": [
    {
     "ename": "TypeError",
     "evalue": "unhashable type: 'list'",
     "output_type": "error",
     "traceback": [
      "\u001b[0;31m---------------------------------------------------------------------------\u001b[0m",
      "\u001b[0;31mTypeError\u001b[0m                                 Traceback (most recent call last)",
      "Cell \u001b[0;32mIn[27], line 1\u001b[0m\n\u001b[0;32m----> 1\u001b[0m myset4\u001b[38;5;241m=\u001b[39m{\u001b[38;5;241m10\u001b[39m,\u001b[38;5;241m6.5\u001b[39m,\u001b[38;5;124m'\u001b[39m\u001b[38;5;124mone\u001b[39m\u001b[38;5;124m'\u001b[39m,[\u001b[38;5;241m22\u001b[39m,\u001b[38;5;241m33\u001b[39m,\u001b[38;5;241m44\u001b[39m]}\n\u001b[1;32m      2\u001b[0m myset4\n",
      "\u001b[0;31mTypeError\u001b[0m: unhashable type: 'list'"
     ]
    }
   ],
   "source": [
    "myset4={10,6.5,'one',[22,33,44]} ## set doesnt allow mutable items like lists\n",
    "myset4"
   ]
  },
  {
   "cell_type": "code",
   "execution_count": 31,
   "id": "506b9355-dd62-45b1-9994-97fccf3e21e3",
   "metadata": {},
   "outputs": [
    {
     "data": {
      "text/plain": [
       "set()"
      ]
     },
     "execution_count": 31,
     "metadata": {},
     "output_type": "execute_result"
    }
   ],
   "source": [
    "myset5=set() #creates an empty set.\n",
    "myset5"
   ]
  },
  {
   "cell_type": "code",
   "execution_count": 35,
   "id": "6b39ea79-4c55-4342-81aa-9654149ca2b2",
   "metadata": {},
   "outputs": [
    {
     "data": {
      "text/plain": [
       "set"
      ]
     },
     "execution_count": 35,
     "metadata": {},
     "output_type": "execute_result"
    }
   ],
   "source": [
    "type(myset5)"
   ]
  },
  {
   "cell_type": "code",
   "execution_count": 39,
   "id": "ba8c4487-059e-4fe6-b92e-aa4c3cc06416",
   "metadata": {},
   "outputs": [
    {
     "data": {
      "text/plain": [
       "{'four', 'one', 'three', 'two'}"
      ]
     },
     "execution_count": 39,
     "metadata": {},
     "output_type": "execute_result"
    }
   ],
   "source": [
    "myset6=set(('one','two','three','four')) ## rewrites elements in alphabet wise.\n",
    "myset6"
   ]
  },
  {
   "cell_type": "markdown",
   "id": "3b413ede-89a5-4091-86b1-bcad29698d2e",
   "metadata": {},
   "source": [
    "## LOOP THROUGH A SET "
   ]
  },
  {
   "cell_type": "code",
   "execution_count": 42,
   "id": "99216ca3-73a2-49dc-b2bb-927e70a29074",
   "metadata": {},
   "outputs": [],
   "source": [
    "myset7 = {'one', 'two', 'three', 'four', 'five', 'six', 'seven', 'eight'}\n"
   ]
  },
  {
   "cell_type": "code",
   "execution_count": 44,
   "id": "174d8b2c-4c05-4d80-91aa-23ea0e7b8943",
   "metadata": {},
   "outputs": [
    {
     "data": {
      "text/plain": [
       "{'eight', 'five', 'four', 'one', 'seven', 'six', 'three', 'two'}"
      ]
     },
     "execution_count": 44,
     "metadata": {},
     "output_type": "execute_result"
    }
   ],
   "source": [
    "myset7"
   ]
  },
  {
   "cell_type": "code",
   "execution_count": 48,
   "id": "69ab294c-81f9-4378-8b35-6d0a4d93cae1",
   "metadata": {},
   "outputs": [
    {
     "name": "stdout",
     "output_type": "stream",
     "text": [
      "three\n",
      "six\n",
      "eight\n",
      "two\n",
      "seven\n",
      "one\n",
      "five\n",
      "four\n"
     ]
    }
   ],
   "source": [
    "for i in myset7:   ## elements in set are unordered, it prints each time in a random order,\n",
    "    print(i)"
   ]
  },
  {
   "cell_type": "code",
   "execution_count": 52,
   "id": "7a6a5b11-6c68-4a55-a2e2-a99883d27b53",
   "metadata": {},
   "outputs": [
    {
     "name": "stdout",
     "output_type": "stream",
     "text": [
      "eight\n",
      "five\n",
      "four\n",
      "one\n",
      "seven\n",
      "six\n",
      "three\n",
      "two\n"
     ]
    }
   ],
   "source": [
    "for i in sorted(myset7):  ## print elements alphabetically wise.\n",
    "    print(i)    "
   ]
  },
  {
   "cell_type": "code",
   "execution_count": 54,
   "id": "0b343fbb-3222-4eda-a08f-977bb738547e",
   "metadata": {},
   "outputs": [
    {
     "name": "stdout",
     "output_type": "stream",
     "text": [
      "two\n",
      "three\n",
      "six\n",
      "seven\n",
      "one\n",
      "four\n",
      "five\n",
      "eight\n"
     ]
    }
   ],
   "source": [
    "for i in sorted(myset7,reverse=True):\n",
    "    print(i)"
   ]
  },
  {
   "cell_type": "markdown",
   "id": "dcb2ef12-0ee6-4b9d-95aa-13d6fb96abd2",
   "metadata": {},
   "source": [
    "# SET MEMBERSHIP"
   ]
  },
  {
   "cell_type": "code",
   "execution_count": 57,
   "id": "5ddfbe5b-942b-4bbb-a675-8bb7d41ead62",
   "metadata": {},
   "outputs": [
    {
     "data": {
      "text/plain": [
       "{'eight', 'five', 'four', 'one', 'seven', 'six', 'three', 'two'}"
      ]
     },
     "execution_count": 57,
     "metadata": {},
     "output_type": "execute_result"
    }
   ],
   "source": [
    "myset7"
   ]
  },
  {
   "cell_type": "code",
   "execution_count": 59,
   "id": "8cc69ad7-2035-44e1-80ca-8ec5935d40cc",
   "metadata": {},
   "outputs": [
    {
     "data": {
      "text/plain": [
       "True"
      ]
     },
     "execution_count": 59,
     "metadata": {},
     "output_type": "execute_result"
    }
   ],
   "source": [
    "'one' in myset7 # checks if one exits in set"
   ]
  },
  {
   "cell_type": "code",
   "execution_count": 61,
   "id": "3e6850e4-d068-4ae5-b884-f7d7d9a05092",
   "metadata": {},
   "outputs": [
    {
     "data": {
      "text/plain": [
       "False"
      ]
     },
     "execution_count": 61,
     "metadata": {},
     "output_type": "execute_result"
    }
   ],
   "source": [
    "'eleven' in myset7"
   ]
  },
  {
   "cell_type": "code",
   "execution_count": 67,
   "id": "12cc8e2b-efc3-4b6b-8a41-63604ce9491f",
   "metadata": {},
   "outputs": [
    {
     "name": "stdout",
     "output_type": "stream",
     "text": [
      "three is present in myset7\n"
     ]
    }
   ],
   "source": [
    "if 'three' in myset7:\n",
    "    print('three is present in myset7')"
   ]
  },
  {
   "cell_type": "code",
   "execution_count": 75,
   "id": "a866acc1-0e74-423c-b937-9ab25f0364db",
   "metadata": {},
   "outputs": [
    {
     "name": "stdout",
     "output_type": "stream",
     "text": [
      "eleven is not present in the set\n"
     ]
    }
   ],
   "source": [
    "if 'eleven' in myset7:\n",
    "    print('eleven is present in the set')\n",
    "else:\n",
    "    print('eleven is not present in the set')"
   ]
  },
  {
   "cell_type": "markdown",
   "id": "9b1f0be2-d790-4359-b374-3e8f4b7c015a",
   "metadata": {},
   "source": [
    "# ADD & REMOVE ITEMS \n"
   ]
  },
  {
   "cell_type": "code",
   "execution_count": 80,
   "id": "ec22ef95-fe79-40c8-b9bc-86b73838c188",
   "metadata": {},
   "outputs": [
    {
     "data": {
      "text/plain": [
       "{'eight', 'five', 'four', 'one', 'seven', 'six', 'three', 'two'}"
      ]
     },
     "execution_count": 80,
     "metadata": {},
     "output_type": "execute_result"
    }
   ],
   "source": [
    "myset7"
   ]
  },
  {
   "cell_type": "code",
   "execution_count": 82,
   "id": "ad7ce36c-7afa-43c9-8597-d68306236d66",
   "metadata": {},
   "outputs": [],
   "source": [
    "myset7.add('nine') ## add item to a set using () method"
   ]
  },
  {
   "cell_type": "code",
   "execution_count": 84,
   "id": "3864a8f1-fc88-49e7-98e1-ec3c6301a9d8",
   "metadata": {},
   "outputs": [
    {
     "data": {
      "text/plain": [
       "{'eight', 'five', 'four', 'nine', 'one', 'seven', 'six', 'three', 'two'}"
      ]
     },
     "execution_count": 84,
     "metadata": {},
     "output_type": "execute_result"
    }
   ],
   "source": [
    "myset7"
   ]
  },
  {
   "cell_type": "code",
   "execution_count": 98,
   "id": "ae0736f5-9480-499d-b353-228be69bf322",
   "metadata": {},
   "outputs": [],
   "source": [
    "myset7.update(['TEN','ELEVEN','TWELVE'])"
   ]
  },
  {
   "cell_type": "code",
   "execution_count": 100,
   "id": "389d640b-5e89-480f-98e3-2fa204a7feb1",
   "metadata": {},
   "outputs": [
    {
     "data": {
      "text/plain": [
       "{'ELEVEN',\n",
       " 'TEN',\n",
       " 'TWELVE',\n",
       " 'e',\n",
       " 'eight',\n",
       " 'eleven',\n",
       " 'five',\n",
       " 'four',\n",
       " 'l',\n",
       " 'n',\n",
       " 'nine',\n",
       " 'one',\n",
       " 'seven',\n",
       " 'six',\n",
       " 't',\n",
       " 'ten',\n",
       " 'three',\n",
       " 'twelve',\n",
       " 'two',\n",
       " 'v',\n",
       " 'w'}"
      ]
     },
     "execution_count": 100,
     "metadata": {},
     "output_type": "execute_result"
    }
   ],
   "source": [
    "myset7"
   ]
  },
  {
   "cell_type": "code",
   "execution_count": 104,
   "id": "8fdf0650-feac-4f1d-bc5a-ce31e8890a32",
   "metadata": {},
   "outputs": [],
   "source": [
    "myset7.remove('nine')"
   ]
  },
  {
   "cell_type": "code",
   "execution_count": 106,
   "id": "11c9f6a8-c015-41bf-9e7a-3cf81f3703d2",
   "metadata": {},
   "outputs": [
    {
     "data": {
      "text/plain": [
       "{'ELEVEN',\n",
       " 'TEN',\n",
       " 'TWELVE',\n",
       " 'e',\n",
       " 'eight',\n",
       " 'eleven',\n",
       " 'five',\n",
       " 'four',\n",
       " 'l',\n",
       " 'n',\n",
       " 'one',\n",
       " 'seven',\n",
       " 'six',\n",
       " 't',\n",
       " 'ten',\n",
       " 'three',\n",
       " 'twelve',\n",
       " 'two',\n",
       " 'v',\n",
       " 'w'}"
      ]
     },
     "execution_count": 106,
     "metadata": {},
     "output_type": "execute_result"
    }
   ],
   "source": [
    "myset7"
   ]
  },
  {
   "cell_type": "code",
   "execution_count": 112,
   "id": "54caa927-7536-445d-a477-e718d5a225bc",
   "metadata": {},
   "outputs": [],
   "source": [
    "myset7.discard('TEN')"
   ]
  },
  {
   "cell_type": "code",
   "execution_count": 114,
   "id": "76ad4a07-37af-407a-bb1f-74bd4dc3e35c",
   "metadata": {},
   "outputs": [
    {
     "data": {
      "text/plain": [
       "{'ELEVEN',\n",
       " 'TWELVE',\n",
       " 'e',\n",
       " 'eight',\n",
       " 'eleven',\n",
       " 'five',\n",
       " 'four',\n",
       " 'l',\n",
       " 'n',\n",
       " 'one',\n",
       " 'seven',\n",
       " 'six',\n",
       " 't',\n",
       " 'ten',\n",
       " 'three',\n",
       " 'twelve',\n",
       " 'two',\n",
       " 'v',\n",
       " 'w'}"
      ]
     },
     "execution_count": 114,
     "metadata": {},
     "output_type": "execute_result"
    }
   ],
   "source": [
    "myset7"
   ]
  },
  {
   "cell_type": "code",
   "execution_count": 116,
   "id": "5a352310-2b3b-492f-81ef-735b4581c027",
   "metadata": {},
   "outputs": [],
   "source": [
    "myset7.clear()"
   ]
  },
  {
   "cell_type": "code",
   "execution_count": 118,
   "id": "aea65188-38a5-4f57-b84f-ecdc1d979c1d",
   "metadata": {},
   "outputs": [
    {
     "data": {
      "text/plain": [
       "set()"
      ]
     },
     "execution_count": 118,
     "metadata": {},
     "output_type": "execute_result"
    }
   ],
   "source": [
    "myset7"
   ]
  },
  {
   "cell_type": "code",
   "execution_count": 120,
   "id": "2c833bff-3427-4fcf-96e5-d4765129ab7a",
   "metadata": {},
   "outputs": [],
   "source": [
    "del myset7"
   ]
  },
  {
   "cell_type": "code",
   "execution_count": 122,
   "id": "3c16f612-efb7-4350-baab-52dd090552bb",
   "metadata": {},
   "outputs": [
    {
     "ename": "NameError",
     "evalue": "name 'myset7' is not defined",
     "output_type": "error",
     "traceback": [
      "\u001b[0;31m---------------------------------------------------------------------------\u001b[0m",
      "\u001b[0;31mNameError\u001b[0m                                 Traceback (most recent call last)",
      "Cell \u001b[0;32mIn[122], line 1\u001b[0m\n\u001b[0;32m----> 1\u001b[0m myset7\n",
      "\u001b[0;31mNameError\u001b[0m: name 'myset7' is not defined"
     ]
    }
   ],
   "source": [
    "myset7"
   ]
  },
  {
   "cell_type": "markdown",
   "id": "486f73f8-136a-4e06-b516-3c0b8bddf426",
   "metadata": {},
   "source": [
    "# COPY ITEMS"
   ]
  },
  {
   "cell_type": "code",
   "execution_count": 131,
   "id": "a8ee0429-a277-4d61-9257-6a5f77a43f02",
   "metadata": {},
   "outputs": [],
   "source": [
    "myset={'eight', 'five', 'four', 'one', 'seven', 'six', 'three', 'two'}"
   ]
  },
  {
   "cell_type": "code",
   "execution_count": 133,
   "id": "fe4bc979-2405-482d-99d1-bc2c958a281c",
   "metadata": {},
   "outputs": [
    {
     "data": {
      "text/plain": [
       "{'eight', 'five', 'four', 'one', 'seven', 'six', 'three', 'two'}"
      ]
     },
     "execution_count": 133,
     "metadata": {},
     "output_type": "execute_result"
    }
   ],
   "source": [
    "myset"
   ]
  },
  {
   "cell_type": "code",
   "execution_count": 135,
   "id": "51414bb4-d084-42e1-a1dc-e67cc3505a81",
   "metadata": {},
   "outputs": [
    {
     "data": {
      "text/plain": [
       "{'eight', 'five', 'four', 'one', 'seven', 'six', 'three', 'two'}"
      ]
     },
     "execution_count": 135,
     "metadata": {},
     "output_type": "execute_result"
    }
   ],
   "source": [
    "myset1=myset  # Create a new reference \"myset1\"\n",
    "myset1"
   ]
  },
  {
   "cell_type": "code",
   "execution_count": 137,
   "id": "6996adaf-016b-49ab-992b-c066def55e2a",
   "metadata": {},
   "outputs": [
    {
     "data": {
      "text/plain": [
       "{'eight', 'five', 'four', 'one', 'seven', 'six', 'three', 'two'}"
      ]
     },
     "execution_count": 137,
     "metadata": {},
     "output_type": "execute_result"
    }
   ],
   "source": [
    "my_set=myset.copy()\n",
    "my_set"
   ]
  },
  {
   "cell_type": "code",
   "execution_count": 141,
   "id": "493f8636-24eb-405a-85c8-ef4404c1c7eb",
   "metadata": {},
   "outputs": [
    {
     "data": {
      "text/plain": [
       "(5375814432, 5375815552, 5375815552)"
      ]
     },
     "execution_count": 141,
     "metadata": {},
     "output_type": "execute_result"
    }
   ],
   "source": [
    "id(my_set),id(myset1),id(myset) # The address of both myset & myset1 will be the same"
   ]
  },
  {
   "cell_type": "code",
   "execution_count": 143,
   "id": "ce39b312-77dc-46fa-9b35-0a22d0ce1280",
   "metadata": {},
   "outputs": [],
   "source": [
    "myset.add('nine')"
   ]
  },
  {
   "cell_type": "code",
   "execution_count": 145,
   "id": "6528771d-3c2b-42e0-bc1b-ee4652fb05db",
   "metadata": {},
   "outputs": [
    {
     "data": {
      "text/plain": [
       "{'eight', 'five', 'four', 'nine', 'one', 'seven', 'six', 'three', 'two'}"
      ]
     },
     "execution_count": 145,
     "metadata": {},
     "output_type": "execute_result"
    }
   ],
   "source": [
    "myset"
   ]
  },
  {
   "cell_type": "code",
   "execution_count": 147,
   "id": "bf01c553-232a-4bd8-b551-8f3679f52021",
   "metadata": {},
   "outputs": [
    {
     "data": {
      "text/plain": [
       "{'eight', 'five', 'four', 'nine', 'one', 'seven', 'six', 'three', 'two'}"
      ]
     },
     "execution_count": 147,
     "metadata": {},
     "output_type": "execute_result"
    }
   ],
   "source": [
    "myset1"
   ]
  },
  {
   "cell_type": "code",
   "execution_count": 149,
   "id": "f7699a0a-8bec-4929-a699-e8d7397274f6",
   "metadata": {},
   "outputs": [
    {
     "data": {
      "text/plain": [
       "{'eight', 'five', 'four', 'one', 'seven', 'six', 'three', 'two'}"
      ]
     },
     "execution_count": 149,
     "metadata": {},
     "output_type": "execute_result"
    }
   ],
   "source": [
    "my_set # # Copy of the set won't be impacted due to changes made on the original Set"
   ]
  },
  {
   "cell_type": "markdown",
   "id": "2f685374-f979-412c-8533-bb6d6d4412fc",
   "metadata": {},
   "source": [
    "# set operation "
   ]
  },
  {
   "cell_type": "markdown",
   "id": "c6cf3203-92e3-4ea5-8839-9e977df61dec",
   "metadata": {},
   "source": [
    "# UNION"
   ]
  },
  {
   "cell_type": "code",
   "execution_count": 152,
   "id": "03faa734-1b8a-48d4-826a-56c2eb3e06ea",
   "metadata": {},
   "outputs": [],
   "source": [
    "A={1,2,3,4,5}\n",
    "B={4,5,6,7,8}\n",
    "C={8,9,10}"
   ]
  },
  {
   "cell_type": "code",
   "execution_count": 154,
   "id": "5958f6e1-1505-4382-bbe9-0adc26003565",
   "metadata": {},
   "outputs": [
    {
     "data": {
      "text/plain": [
       "{1, 2, 3, 4, 5, 6, 7, 8}"
      ]
     },
     "execution_count": 154,
     "metadata": {},
     "output_type": "execute_result"
    }
   ],
   "source": [
    "A | B #union of A & B (All elements from both sets. NO DUPLICATES)"
   ]
  },
  {
   "cell_type": "code",
   "execution_count": 156,
   "id": "34d3bc6c-2d96-4b6a-9549-9c21f037011d",
   "metadata": {},
   "outputs": [
    {
     "data": {
      "text/plain": [
       "{1, 2, 3, 4, 5, 6, 7, 8}"
      ]
     },
     "execution_count": 156,
     "metadata": {},
     "output_type": "execute_result"
    }
   ],
   "source": [
    "A.union(B)"
   ]
  },
  {
   "cell_type": "code",
   "execution_count": 158,
   "id": "bf70245e-578d-4005-9f13-1d3872612750",
   "metadata": {},
   "outputs": [
    {
     "data": {
      "text/plain": [
       "{1, 2, 3, 4, 5, 6, 7, 8, 9, 10}"
      ]
     },
     "execution_count": 158,
     "metadata": {},
     "output_type": "execute_result"
    }
   ],
   "source": [
    "A.union(B,C)"
   ]
  },
  {
   "cell_type": "code",
   "execution_count": 162,
   "id": "abda041b-96a7-4734-9140-5ec063e53807",
   "metadata": {},
   "outputs": [],
   "source": [
    "A.update(B,C)"
   ]
  },
  {
   "cell_type": "code",
   "execution_count": 164,
   "id": "06d524fc-3c49-40f1-99db-f522523d26a1",
   "metadata": {},
   "outputs": [
    {
     "data": {
      "text/plain": [
       "{1, 2, 3, 4, 5, 6, 7, 8, 9, 10}"
      ]
     },
     "execution_count": 164,
     "metadata": {},
     "output_type": "execute_result"
    }
   ],
   "source": [
    "A"
   ]
  },
  {
   "cell_type": "markdown",
   "id": "f56a2130-45cb-4dbb-bf79-06ab98020f70",
   "metadata": {},
   "source": [
    "# INTERSECTION"
   ]
  },
  {
   "cell_type": "code",
   "execution_count": 172,
   "id": "66587745-3e8e-4f05-9f35-2b671cfdbabd",
   "metadata": {},
   "outputs": [],
   "source": [
    "A={1,2,3,4,5}\n",
    "B={4,5,6,7,8}\n",
    "C={8,9,10}"
   ]
  },
  {
   "cell_type": "code",
   "execution_count": 174,
   "id": "00f0842d-1bd8-4ce0-b63b-7eed9e73d07c",
   "metadata": {},
   "outputs": [
    {
     "data": {
      "text/plain": [
       "{4, 5}"
      ]
     },
     "execution_count": 174,
     "metadata": {},
     "output_type": "execute_result"
    }
   ],
   "source": [
    "A & B"
   ]
  },
  {
   "cell_type": "code",
   "execution_count": 176,
   "id": "6e433782-0656-405b-87a6-8483b65b7bd2",
   "metadata": {},
   "outputs": [
    {
     "data": {
      "text/plain": [
       "{8}"
      ]
     },
     "execution_count": 176,
     "metadata": {},
     "output_type": "execute_result"
    }
   ],
   "source": [
    "B & C"
   ]
  },
  {
   "cell_type": "code",
   "execution_count": 178,
   "id": "fd3d1320-8bbd-48dc-8737-9d1d82cd5c75",
   "metadata": {},
   "outputs": [
    {
     "data": {
      "text/plain": [
       "{4, 5}"
      ]
     },
     "execution_count": 178,
     "metadata": {},
     "output_type": "execute_result"
    }
   ],
   "source": [
    "A.intersection(B)"
   ]
  },
  {
   "cell_type": "code",
   "execution_count": 188,
   "id": "2c838011-989b-41c5-8d1c-30894506a483",
   "metadata": {},
   "outputs": [],
   "source": [
    "A.intersection_update(B)"
   ]
  },
  {
   "cell_type": "code",
   "execution_count": 191,
   "id": "5fdfea5a-eed4-4d26-bf83-56a2e5acfb94",
   "metadata": {},
   "outputs": [
    {
     "data": {
      "text/plain": [
       "set()"
      ]
     },
     "execution_count": 191,
     "metadata": {},
     "output_type": "execute_result"
    }
   ],
   "source": [
    "A"
   ]
  },
  {
   "cell_type": "markdown",
   "id": "f3978bd6-5fb2-4d57-b1e4-c2b1d34f798f",
   "metadata": {},
   "source": [
    "# Difference"
   ]
  },
  {
   "cell_type": "code",
   "execution_count": 194,
   "id": "a84932ab-fa1c-4890-ac6e-26f526b4eb91",
   "metadata": {},
   "outputs": [],
   "source": [
    "A = {1,2,3,4,5}\n",
    "B = {4,5,6,7,8}"
   ]
  },
  {
   "cell_type": "code",
   "execution_count": 198,
   "id": "f19348a5-d6cf-4d70-b08f-9711d9673ff3",
   "metadata": {},
   "outputs": [
    {
     "data": {
      "text/plain": [
       "{1, 2, 3}"
      ]
     },
     "execution_count": 198,
     "metadata": {},
     "output_type": "execute_result"
    }
   ],
   "source": [
    "A-B"
   ]
  },
  {
   "cell_type": "code",
   "execution_count": 200,
   "id": "292682df-89b2-426a-b4c0-e2564b3e7b8d",
   "metadata": {},
   "outputs": [
    {
     "data": {
      "text/plain": [
       "{1, 2, 3}"
      ]
     },
     "execution_count": 200,
     "metadata": {},
     "output_type": "execute_result"
    }
   ],
   "source": [
    "A.difference(B)"
   ]
  },
  {
   "cell_type": "code",
   "execution_count": 202,
   "id": "b51652d6-9494-4c79-bd19-4744eec0072b",
   "metadata": {},
   "outputs": [
    {
     "data": {
      "text/plain": [
       "{6, 7, 8}"
      ]
     },
     "execution_count": 202,
     "metadata": {},
     "output_type": "execute_result"
    }
   ],
   "source": [
    "B-A"
   ]
  },
  {
   "cell_type": "code",
   "execution_count": 204,
   "id": "ca32c1bb-4d4e-4c21-86f8-f88bb39f1255",
   "metadata": {},
   "outputs": [
    {
     "data": {
      "text/plain": [
       "{6, 7, 8}"
      ]
     },
     "execution_count": 204,
     "metadata": {},
     "output_type": "execute_result"
    }
   ],
   "source": [
    "B.difference(A)"
   ]
  },
  {
   "cell_type": "code",
   "execution_count": 206,
   "id": "67e48e2d-8ce2-4692-8f73-c4558afdfb0a",
   "metadata": {},
   "outputs": [],
   "source": [
    "B.difference_update(A)"
   ]
  },
  {
   "cell_type": "code",
   "execution_count": 208,
   "id": "b6d251ab-3c79-4c76-ac22-46ed022d4be9",
   "metadata": {},
   "outputs": [
    {
     "data": {
      "text/plain": [
       "{6, 7, 8}"
      ]
     },
     "execution_count": 208,
     "metadata": {},
     "output_type": "execute_result"
    }
   ],
   "source": [
    "B"
   ]
  },
  {
   "cell_type": "markdown",
   "id": "d2773137-c574-4bbf-aac9-146a83397880",
   "metadata": {},
   "source": [
    "# symmetric difference"
   ]
  },
  {
   "cell_type": "code",
   "execution_count": null,
   "id": "356d863a-fb3f-47c7-881c-a4a4294991f8",
   "metadata": {},
   "outputs": [],
   "source": [
    "A = {1,2,3,4,5}\n",
    "B = {4,5,6,7,8}"
   ]
  },
  {
   "cell_type": "code",
   "execution_count": 213,
   "id": "8c59bc65-7f93-47d1-92b3-7e4b8036ce38",
   "metadata": {},
   "outputs": [
    {
     "data": {
      "text/plain": [
       "{1, 2, 3, 4, 5, 6, 7, 8}"
      ]
     },
     "execution_count": 213,
     "metadata": {},
     "output_type": "execute_result"
    }
   ],
   "source": [
    "A^B # Symmetric difference (Set of elements in A and B but not in both"
   ]
  },
  {
   "cell_type": "code",
   "execution_count": 217,
   "id": "040f68ec-b821-4a30-bc38-fcfaccd3b0da",
   "metadata": {},
   "outputs": [
    {
     "data": {
      "text/plain": [
       "{1, 2, 3, 4, 5, 6, 7, 8}"
      ]
     },
     "execution_count": 217,
     "metadata": {},
     "output_type": "execute_result"
    }
   ],
   "source": [
    "A.symmetric_difference(B)"
   ]
  },
  {
   "cell_type": "code",
   "execution_count": 219,
   "id": "202e0f1d-5fd2-4e4f-b2e3-1502fd308de4",
   "metadata": {},
   "outputs": [],
   "source": [
    "A.symmetric_difference_update(B)"
   ]
  },
  {
   "cell_type": "code",
   "execution_count": 221,
   "id": "11124a2b-20d8-4a78-920c-107fedfd670f",
   "metadata": {},
   "outputs": [
    {
     "data": {
      "text/plain": [
       "{1, 2, 3, 4, 5, 6, 7, 8}"
      ]
     },
     "execution_count": 221,
     "metadata": {},
     "output_type": "execute_result"
    }
   ],
   "source": [
    "A"
   ]
  },
  {
   "cell_type": "markdown",
   "id": "1bdb9e3a-5dba-47b4-a207-442472535a09",
   "metadata": {},
   "source": [
    "# Subset, Superset, Disjoint"
   ]
  },
  {
   "cell_type": "code",
   "execution_count": 251,
   "id": "dd0b69b3-2802-4b98-8ca8-16f6f048ffb6",
   "metadata": {},
   "outputs": [],
   "source": [
    "A={1,2,3,4,5,6,7,8,9,10}\n",
    "B={4,5,6,7,8}\n",
    "C={8,9,10}\n",
    "D={11,12,13}"
   ]
  },
  {
   "cell_type": "code",
   "execution_count": 235,
   "id": "29f8c7e7-bcc1-4092-8ada-c8f2636f7eaa",
   "metadata": {},
   "outputs": [
    {
     "data": {
      "text/plain": [
       "True"
      ]
     },
     "execution_count": 235,
     "metadata": {},
     "output_type": "execute_result"
    }
   ],
   "source": [
    "B.issubset(A)"
   ]
  },
  {
   "cell_type": "code",
   "execution_count": 239,
   "id": "fa254829-843a-412b-8c72-713ff33309b7",
   "metadata": {},
   "outputs": [
    {
     "data": {
      "text/plain": [
       "True"
      ]
     },
     "execution_count": 239,
     "metadata": {},
     "output_type": "execute_result"
    }
   ],
   "source": [
    "A.issuperset(B) # Set A is said to be the superset of set B if all elements of B and other elements."
   ]
  },
  {
   "cell_type": "code",
   "execution_count": 241,
   "id": "1edf2a0a-bacd-426a-b70f-c48f2ad1ef81",
   "metadata": {},
   "outputs": [],
   "source": [
    "# disjoint set means no common elements.\n"
   ]
  },
  {
   "cell_type": "code",
   "execution_count": 247,
   "id": "345bdb83-b29a-483b-99cb-5bd0d9f67ac2",
   "metadata": {},
   "outputs": [
    {
     "data": {
      "text/plain": [
       "False"
      ]
     },
     "execution_count": 247,
     "metadata": {},
     "output_type": "execute_result"
    }
   ],
   "source": [
    "A.isdisjoint(C)"
   ]
  },
  {
   "cell_type": "code",
   "execution_count": 253,
   "id": "907bf84f-d363-46a2-8d13-b08061ca63ad",
   "metadata": {},
   "outputs": [
    {
     "data": {
      "text/plain": [
       "True"
      ]
     },
     "execution_count": 253,
     "metadata": {},
     "output_type": "execute_result"
    }
   ],
   "source": [
    "C.isdisjoint(D)"
   ]
  },
  {
   "cell_type": "markdown",
   "id": "25b3426a-00a5-4e69-90da-ee23febfeda4",
   "metadata": {},
   "source": [
    "# OTHER BUILTIN FUNCTIONS"
   ]
  },
  {
   "cell_type": "code",
   "execution_count": 256,
   "id": "f7b24346-daac-4c89-86e2-0d3ec07ca36c",
   "metadata": {},
   "outputs": [
    {
     "data": {
      "text/plain": [
       "{1, 2, 3, 4, 5, 6, 7, 8, 9, 10}"
      ]
     },
     "execution_count": 256,
     "metadata": {},
     "output_type": "execute_result"
    }
   ],
   "source": [
    "A"
   ]
  },
  {
   "cell_type": "code",
   "execution_count": 260,
   "id": "730ae6b9-0e43-4f3b-ae4e-8c7b1209129a",
   "metadata": {},
   "outputs": [
    {
     "data": {
      "text/plain": [
       "55"
      ]
     },
     "execution_count": 260,
     "metadata": {},
     "output_type": "execute_result"
    }
   ],
   "source": [
    "sum(A) # sum is small letters will be valid, not in capital"
   ]
  },
  {
   "cell_type": "code",
   "execution_count": 262,
   "id": "bf6de749-47d6-4b4b-af8d-4db72e65aad5",
   "metadata": {},
   "outputs": [
    {
     "data": {
      "text/plain": [
       "10"
      ]
     },
     "execution_count": 262,
     "metadata": {},
     "output_type": "execute_result"
    }
   ],
   "source": [
    "max(A)"
   ]
  },
  {
   "cell_type": "code",
   "execution_count": 264,
   "id": "997f99b8-1ce5-4264-bdd4-0a03358ba117",
   "metadata": {},
   "outputs": [
    {
     "data": {
      "text/plain": [
       "1"
      ]
     },
     "execution_count": 264,
     "metadata": {},
     "output_type": "execute_result"
    }
   ],
   "source": [
    "min(A)"
   ]
  },
  {
   "cell_type": "code",
   "execution_count": 266,
   "id": "ee7bfaac-80fc-4212-93a5-c660b513745c",
   "metadata": {},
   "outputs": [
    {
     "data": {
      "text/plain": [
       "10"
      ]
     },
     "execution_count": 266,
     "metadata": {},
     "output_type": "execute_result"
    }
   ],
   "source": [
    "len(A)"
   ]
  },
  {
   "cell_type": "code",
   "execution_count": 268,
   "id": "d8b43d37-8aae-4675-bc6b-df60299365fc",
   "metadata": {},
   "outputs": [
    {
     "data": {
      "text/plain": [
       "[(0, 1),\n",
       " (1, 2),\n",
       " (2, 3),\n",
       " (3, 4),\n",
       " (4, 5),\n",
       " (5, 6),\n",
       " (6, 7),\n",
       " (7, 8),\n",
       " (8, 9),\n",
       " (9, 10)]"
      ]
     },
     "execution_count": 268,
     "metadata": {},
     "output_type": "execute_result"
    }
   ],
   "source": [
    "list(enumerate(A))"
   ]
  },
  {
   "cell_type": "code",
   "execution_count": null,
   "id": "e5fe09f7-e3be-4367-a243-97c89cd29286",
   "metadata": {},
   "outputs": [],
   "source": []
  }
 ],
 "metadata": {
  "kernelspec": {
   "display_name": "Python [conda env:base] *",
   "language": "python",
   "name": "conda-base-py"
  },
  "language_info": {
   "codemirror_mode": {
    "name": "ipython",
    "version": 3
   },
   "file_extension": ".py",
   "mimetype": "text/x-python",
   "name": "python",
   "nbconvert_exporter": "python",
   "pygments_lexer": "ipython3",
   "version": "3.12.7"
  }
 },
 "nbformat": 4,
 "nbformat_minor": 5
}
